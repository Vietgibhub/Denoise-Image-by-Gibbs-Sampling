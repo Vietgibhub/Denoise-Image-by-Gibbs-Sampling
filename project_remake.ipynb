{
 "cells": [
  {
   "cell_type": "code",
   "execution_count": 3,
   "metadata": {},
   "outputs": [
    {
     "name": "stdout",
     "output_type": "stream",
     "text": [
      "done\n"
     ]
    },
    {
     "name": "stderr",
     "output_type": "stream",
     "text": [
      "<ipython-input-3-81d5ccac8a34>:26: RuntimeWarning: overflow encountered in exp\n",
      "  p = np.exp(J * w) * norm.pdf(image, loc=1, scale=std)/(np.exp(J * w) * norm.pdf(image, loc=1, scale=std)+np.exp(-J * w) * norm.pdf(image, loc=-1, scale=std))\n",
      "<ipython-input-3-81d5ccac8a34>:26: RuntimeWarning: invalid value encountered in multiply\n",
      "  p = np.exp(J * w) * norm.pdf(image, loc=1, scale=std)/(np.exp(J * w) * norm.pdf(image, loc=1, scale=std)+np.exp(-J * w) * norm.pdf(image, loc=-1, scale=std))\n",
      "<ipython-input-3-81d5ccac8a34>:26: RuntimeWarning: invalid value encountered in true_divide\n",
      "  p = np.exp(J * w) * norm.pdf(image, loc=1, scale=std)/(np.exp(J * w) * norm.pdf(image, loc=1, scale=std)+np.exp(-J * w) * norm.pdf(image, loc=-1, scale=std))\n"
     ]
    }
   ],
   "source": [
    "import numpy as np\n",
    "from scipy.stats import norm\n",
    "import cv2\n",
    "np.random.seed(0)\n",
    "\n",
    "def Gibbs_sampling_with_Ising_model(image,n,J,std):\n",
    "    \n",
    "    for k in range(n):\n",
    "        for i in range(image.shape[0]):\n",
    "            for j in range(image.shape[1]):\n",
    "\n",
    "                w = image[j-1,i] + image[j,i-1] + image[j+1,i] + image[j,i+1]\n",
    "\n",
    "                p = np.exp(J * w) * norm.pdf(image, loc=1, scale=std)/(np.exp(J * w) * norm.pdf(image, loc=1, scale=std)+np.exp(-J * w) * norm.pdf(image, loc=-1, scale=std))\n",
    "                u = np.random.uniform(0, 1, size=[image.shape[0],image.shape[1]])\n",
    "\n",
    "                image[u <= p] = 1\n",
    "                image[u > p] = -1\n",
    "\n",
    "    return image\n",
    "\n",
    "def Process(image,n,J, std):\n",
    "    \n",
    "    image[image == 255] = 1\n",
    "    image[image == 0] = -1\n",
    "    new_img = Gibbs_sampling_with_Ising_model(image,n,J, std)\n",
    "    new_img[new_img == 1] = 255\n",
    "    new_img[new_img == -1] = 0\n",
    "    cv2.imwrite('denoised.png', new_img.astype(np.uint8))\n",
    "\n",
    "image = cv2.imread(\"noise_image.png\", cv2.IMREAD_GRAYSCALE)\n",
    "Process(image.astype(np.float16), ,1000,0.5)\n",
    "print(\"done\")"
   ]
  },
  {
   "cell_type": "code",
   "execution_count": 8,
   "metadata": {},
   "outputs": [
    {
     "name": "stdout",
     "output_type": "stream",
     "text": [
      "[[1 2 3]\n",
      " [4 5 6]]\n",
      "[[1 1 2]\n",
      " [4 4 5]]\n",
      "[[3 1 2]\n",
      " [6 4 5]]\n"
     ]
    }
   ],
   "source": [
    "y = np.array([[1,2,3],[4,5,6]])\n",
    "\n",
    "x = y.copy()\n",
    "print(x)\n",
    "x[:,1:] = x[:,:-1]\n",
    "print(x)\n",
    "x[:,0] = y[:,-1]\n",
    "\n",
    "print(x)"
   ]
  },
  {
   "cell_type": "code",
   "execution_count": null,
   "metadata": {},
   "outputs": [],
   "source": []
  }
 ],
 "metadata": {
  "kernelspec": {
   "display_name": "Python 3",
   "language": "python",
   "name": "python3"
  },
  "language_info": {
   "codemirror_mode": {
    "name": "ipython",
    "version": 3
   },
   "file_extension": ".py",
   "mimetype": "text/x-python",
   "name": "python",
   "nbconvert_exporter": "python",
   "pygments_lexer": "ipython3",
   "version": "3.8.5"
  }
 },
 "nbformat": 4,
 "nbformat_minor": 4
}
